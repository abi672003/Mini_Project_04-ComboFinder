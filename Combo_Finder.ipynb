{
  "nbformat": 4,
  "nbformat_minor": 0,
  "metadata": {
    "colab": {
      "provenance": [],
      "authorship_tag": "ABX9TyPF05kubXXNbPFLq58PPuyL",
      "include_colab_link": true
    },
    "kernelspec": {
      "name": "python3",
      "display_name": "Python 3"
    },
    "language_info": {
      "name": "python"
    }
  },
  "cells": [
    {
      "cell_type": "markdown",
      "metadata": {
        "id": "view-in-github",
        "colab_type": "text"
      },
      "source": [
        "<a href=\"https://colab.research.google.com/github/abi672003/Mini_Project-ComboFinder/blob/main/Combo_Finder.ipynb\" target=\"_parent\"><img src=\"https://colab.research.google.com/assets/colab-badge.svg\" alt=\"Open In Colab\"/></a>"
      ]
    },
    {
      "cell_type": "code",
      "metadata": {
        "id": "cF_mSA9Xim1j"
      },
      "source": [
        "import random as r"
      ],
      "execution_count": null,
      "outputs": []
    },
    {
      "cell_type": "code",
      "metadata": {
        "id": "NHB2KMhZim1o"
      },
      "source": [
        "ProductList = {'p1':10, 'p2':15, 'p3':20, 'p4':25, 'p5':30, 'p6':35, 'p7':50,\n",
        "               'p8':40, 'p9':55, 'p10':60, 'p11':65, 'p12':75, 'p13':70,\n",
        "               'p14':45}\n",
        "LB          = 290\n",
        "UB          = 310\n",
        "ResultList  = set()   # Store Result List i.e. list of sets whose sum is between 90 and 210.\n",
        "Iterations  = 1000    # Number of Inerations"
      ],
      "execution_count": null,
      "outputs": []
    },
    {
      "cell_type": "code",
      "metadata": {
        "id": "veBU-f21im1x",
        "colab": {
          "base_uri": "https://localhost:8080/"
        },
        "outputId": "e9ef0dc1-1d89-4d7d-88d2-9f962fc8a48d"
      },
      "source": [
        "# Select combo size (i.e. number of products in a combo)\n",
        "SetSize = r.randint(2, len(ProductList)-1)\n",
        "print(\"Number of Product: \", SetSize)\n",
        "\n",
        "\n",
        "# Select number of elements from Set\n",
        "ComboList = r.sample(list(ProductList.keys()),SetSize)\n",
        "print(\"Product List     : \", ComboList)\n",
        "\n",
        "\n",
        "# Sum the products in ColboList\n",
        "ComboSum = sum([ ProductList[i] for i in ComboList])\n",
        "print(\"Sum of Product   : \", ComboSum)\n"
      ],
      "execution_count": null,
      "outputs": [
        {
          "output_type": "stream",
          "name": "stdout",
          "text": [
            "Number of Product:  4\n",
            "Product List     :  ['p1', 'p7', 'p3', 'p11']\n",
            "Sum of Product   :  145\n"
          ]
        }
      ]
    },
    {
      "cell_type": "code",
      "metadata": {
        "colab": {
          "base_uri": "https://localhost:8080/"
        },
        "id": "34JF9pZPNuIj",
        "outputId": "104979ac-3e97-4b66-ca69-db5f3d45a88a"
      },
      "source": [
        "# Loop till number of Iterations\n",
        "ResultList  = set()\n",
        "\n",
        "for i in range(Iterations):\n",
        "\n",
        "    # Select combo size (i.e. number of products in a combo)\n",
        "    SetSize = r.randint(2, len(ProductList)-1)\n",
        "\n",
        "    # Select number of elements from Set\n",
        "    ComboList = r.sample(list(ProductList.keys()),SetSize)\n",
        "\n",
        "    # Sum the products in ColboList\n",
        "    ComboSum = sum([ ProductList[i] for i in ComboList])\n",
        "\n",
        "    # Check the Sum Between LB and UB\n",
        "    if ComboSum>= LB and ComboSum<= UB:\n",
        "      ResultList.add(tuple(ComboList))\n",
        "\n",
        "print(\"Done\")"
      ],
      "execution_count": null,
      "outputs": [
        {
          "output_type": "stream",
          "name": "stdout",
          "text": [
            "Done\n"
          ]
        }
      ]
    },
    {
      "cell_type": "code",
      "metadata": {
        "colab": {
          "base_uri": "https://localhost:8080/"
        },
        "id": "41abL1k-im10",
        "scrolled": true,
        "outputId": "d1ba1ad7-6c35-4089-ae6d-518ae83da81f"
      },
      "source": [
        "# Print all the sets whose sum is between LB and UB\n",
        "for r in ResultList:\n",
        "\tprint (r)\n",
        "\n",
        "# Print total sets\n",
        "print (\"\\nTotal Sets: \", len(ResultList), \"\\n\")"
      ],
      "execution_count": null,
      "outputs": [
        {
          "output_type": "stream",
          "name": "stdout",
          "text": [
            "('p7', 'p1', 'p8', 'p12', 'p5', 'p4', 'p9', 'p3')\n",
            "('p14', 'p6', 'p8', 'p11', 'p3', 'p13', 'p5')\n",
            "('p6', 'p10', 'p9', 'p1', 'p14', 'p7', 'p2', 'p5')\n",
            "('p13', 'p11', 'p3', 'p12', 'p6', 'p14')\n",
            "('p11', 'p9', 'p13', 'p3', 'p8', 'p10')\n",
            "('p2', 'p9', 'p1', 'p4', 'p14', 'p3', 'p10', 'p7', 'p5')\n",
            "('p5', 'p1', 'p9', 'p4', 'p8', 'p7', 'p2', 'p13')\n",
            "('p12', 'p2', 'p11', 'p8', 'p4', 'p3', 'p13')\n",
            "('p2', 'p3', 'p5', 'p14', 'p7', 'p12', 'p13')\n",
            "('p13', 'p11', 'p1', 'p9', 'p7', 'p2', 'p5')\n",
            "('p4', 'p13', 'p6', 'p14', 'p11', 'p9')\n",
            "('p1', 'p3', 'p12', 'p9', 'p10', 'p11', 'p4')\n",
            "('p3', 'p12', 'p14', 'p2', 'p1', 'p10', 'p13')\n",
            "('p9', 'p4', 'p7', 'p8', 'p6', 'p5', 'p2', 'p14')\n",
            "('p11', 'p6', 'p2', 'p13', 'p7', 'p12')\n",
            "('p2', 'p9', 'p6', 'p4', 'p13', 'p5', 'p7', 'p1')\n",
            "('p5', 'p2', 'p12', 'p9', 'p8', 'p14', 'p6')\n",
            "('p10', 'p12', 'p7', 'p5', 'p9', 'p4')\n",
            "('p2', 'p8', 'p3', 'p11', 'p12', 'p6', 'p9')\n",
            "('p14', 'p3', 'p5', 'p1', 'p9', 'p4', 'p10', 'p11')\n",
            "('p6', 'p14', 'p10', 'p1', 'p13', 'p2', 'p12')\n",
            "('p1', 'p12', 'p11', 'p8', 'p7', 'p4', 'p14')\n",
            "('p11', 'p6', 'p13', 'p14', 'p3', 'p5', 'p4')\n",
            "('p3', 'p12', 'p11', 'p9', 'p10', 'p4')\n",
            "('p3', 'p9', 'p10', 'p11', 'p5', 'p4', 'p8')\n",
            "('p7', 'p8', 'p13', 'p12', 'p11')\n",
            "('p1', 'p2', 'p5', 'p13', 'p4', 'p12', 'p11')\n",
            "('p3', 'p14', 'p10', 'p8', 'p4', 'p6', 'p12')\n",
            "('p4', 'p8', 'p5', 'p12', 'p3', 'p10', 'p2', 'p14')\n",
            "('p9', 'p14', 'p7', 'p10', 'p3', 'p4', 'p5', 'p2')\n",
            "('p6', 'p7', 'p14', 'p5', 'p4', 'p1', 'p2', 'p10', 'p3')\n",
            "('p5', 'p1', 'p13', 'p11', 'p12', 'p9')\n",
            "('p14', 'p13', 'p3', 'p12', 'p9', 'p6')\n",
            "('p4', 'p12', 'p9', 'p6', 'p10', 'p3', 'p8')\n",
            "('p10', 'p11', 'p8', 'p3', 'p4', 'p2', 'p12')\n",
            "('p7', 'p11', 'p5', 'p13', 'p12')\n",
            "('p11', 'p7', 'p9', 'p4', 'p5', 'p12')\n",
            "('p14', 'p8', 'p13', 'p12', 'p3', 'p6', 'p4')\n",
            "('p11', 'p6', 'p4', 'p1', 'p10', 'p9', 'p8')\n",
            "('p7', 'p10', 'p5', 'p6', 'p3', 'p12', 'p4')\n",
            "('p9', 'p10', 'p3', 'p4', 'p2', 'p7', 'p1', 'p13')\n",
            "('p12', 'p5', 'p3', 'p9', 'p14', 'p8', 'p6', 'p1')\n",
            "('p4', 'p11', 'p5', 'p7', 'p10', 'p8', 'p1', 'p2')\n",
            "('p2', 'p13', 'p8', 'p1', 'p6', 'p12', 'p9')\n",
            "('p10', 'p3', 'p7', 'p5', 'p13', 'p12')\n",
            "\n",
            "Total Sets:  45 \n",
            "\n"
          ]
        }
      ]
    }
  ]
}